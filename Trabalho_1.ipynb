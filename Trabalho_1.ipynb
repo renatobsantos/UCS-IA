{
  "nbformat": 4,
  "nbformat_minor": 0,
  "metadata": {
    "colab": {
      "name": "Trabalho_1.ipynb",
      "provenance": [],
      "collapsed_sections": []
    },
    "kernelspec": {
      "name": "python3",
      "display_name": "Python 3"
    },
    "language_info": {
      "name": "python"
    }
  },
  "cells": [
    {
      "cell_type": "markdown",
      "source": [
        "# Integrantes"
      ],
      "metadata": {
        "id": "uwpGDcgm3YWp"
      }
    },
    {
      "cell_type": "code",
      "source": [
        "# Guilherme Marques Brait Garros - 19264266\n",
        "# Lucas Grass Beraldo - 19246925\n",
        "# Renato Barba dos Santos - 19246529\n",
        "# Vitor Ferrara Conti - 19019454"
      ],
      "metadata": {
        "id": "uL-o1A7U3bT6"
      },
      "execution_count": 2,
      "outputs": []
    },
    {
      "cell_type": "markdown",
      "source": [
        "# Imports"
      ],
      "metadata": {
        "id": "WOtG7HmKPhRK"
      }
    },
    {
      "cell_type": "code",
      "execution_count": 3,
      "metadata": {
        "id": "nPRs0xFRjZ70"
      },
      "outputs": [],
      "source": [
        "import pandas as pd"
      ]
    },
    {
      "cell_type": "markdown",
      "source": [
        "# Inicialização"
      ],
      "metadata": {
        "id": "ErFL-0f8t5FH"
      }
    },
    {
      "cell_type": "code",
      "source": [
        "# names=range(x) | x = número de colunas\n",
        "# É necessário utilizar esse parâmetro, por que no arquivo csv tem linhas com números diferentes de colunas\n",
        "# e senão usar o parâmetro o arquivo não será lido corretamente\n",
        "df = pd.read_csv('ExemploArquivoEntrada.csv', header=None, names=range(42))\n",
        "\n",
        "# tamanho da matriz n x n, subtrai 2 para não contar as duas primeiras linhas que são as posicões inicial e final\n",
        "df_length = len(df) - 2\n",
        "\n",
        "# posição inicial e final\n",
        "# str(x) + ':' + str(y) -> e.g. x = 0, y = 0 -> '0:0' (posicao_x : posicao_y)\n",
        "src = str(df[0][0]) + ':' + str(df[1][0])\n",
        "dest = str(df[0][1]) + ':' + str(df[1][1])"
      ],
      "metadata": {
        "id": "70vwFq6tnXY8"
      },
      "execution_count": 4,
      "outputs": []
    },
    {
      "cell_type": "markdown",
      "source": [
        "# Como vamos ler a matriz do arquivo CSV"
      ],
      "metadata": {
        "id": "n3776TV-hdZp"
      }
    },
    {
      "cell_type": "code",
      "source": [
        "matriz = []\n",
        "\n",
        "for i in range(df_length):\n",
        "  row = []\n",
        "  for j in range(df_length):\n",
        "    # soma 2 para remover as 2 primeiras linhas e\n",
        "    # casting de int das posições do df, por causa do NaN que converte valores para float\n",
        "    # e.g.\n",
        "    # 0, 0, NaN\n",
        "    # 1, 6, NaN\n",
        "    # 2, 1, 1.0\n",
        "    row.append(int(df[i][2 + j]))\n",
        "  matriz.append(row)\n",
        "\n",
        "# a matriz foi convertida para um array numpy para poder utilizar o metódo transpose para as colunas virarem linhas\n",
        "# e vice-versa e depois foi convertido de volta para uma list para manter o padrão de utilização de lists\n",
        "matriz = np.array(matriz)\n",
        "matriz = matriz.transpose()\n",
        "matriz = matriz.tolist()\n",
        "\n",
        "# matriz[i][j] i = column | j = row\n",
        "# matriz depois do transpose\n",
        "# matriz[i][j] i = row | j = column"
      ],
      "metadata": {
        "id": "fWzgWrkcjyuJ",
        "colab": {
          "base_uri": "https://localhost:8080/",
          "height": 234
        },
        "outputId": "73e2e059-dc59-4600-ea70-be051a02f372"
      },
      "execution_count": 5,
      "outputs": [
        {
          "output_type": "error",
          "ename": "NameError",
          "evalue": "ignored",
          "traceback": [
            "\u001b[0;31m---------------------------------------------------------------------------\u001b[0m",
            "\u001b[0;31mNameError\u001b[0m                                 Traceback (most recent call last)",
            "\u001b[0;32m<ipython-input-5-a4ede5c8220e>\u001b[0m in \u001b[0;36m<module>\u001b[0;34m()\u001b[0m\n\u001b[1;32m     15\u001b[0m \u001b[0;31m# a matriz foi convertida para um array numpy para poder utilizar o metódo transpose para as colunas virarem linhas\u001b[0m\u001b[0;34m\u001b[0m\u001b[0;34m\u001b[0m\u001b[0;34m\u001b[0m\u001b[0m\n\u001b[1;32m     16\u001b[0m \u001b[0;31m# e vice-versa e depois foi convertido de volta para uma list para manter o padrão de utilização de lists\u001b[0m\u001b[0;34m\u001b[0m\u001b[0;34m\u001b[0m\u001b[0;34m\u001b[0m\u001b[0m\n\u001b[0;32m---> 17\u001b[0;31m \u001b[0mmatriz\u001b[0m \u001b[0;34m=\u001b[0m \u001b[0mnp\u001b[0m\u001b[0;34m.\u001b[0m\u001b[0marray\u001b[0m\u001b[0;34m(\u001b[0m\u001b[0mmatriz\u001b[0m\u001b[0;34m)\u001b[0m\u001b[0;34m\u001b[0m\u001b[0;34m\u001b[0m\u001b[0m\n\u001b[0m\u001b[1;32m     18\u001b[0m \u001b[0mmatriz\u001b[0m \u001b[0;34m=\u001b[0m \u001b[0mmatriz\u001b[0m\u001b[0;34m.\u001b[0m\u001b[0mtranspose\u001b[0m\u001b[0;34m(\u001b[0m\u001b[0;34m)\u001b[0m\u001b[0;34m\u001b[0m\u001b[0;34m\u001b[0m\u001b[0m\n\u001b[1;32m     19\u001b[0m \u001b[0mmatriz\u001b[0m \u001b[0;34m=\u001b[0m \u001b[0mmatriz\u001b[0m\u001b[0;34m.\u001b[0m\u001b[0mtolist\u001b[0m\u001b[0;34m(\u001b[0m\u001b[0;34m)\u001b[0m\u001b[0;34m\u001b[0m\u001b[0;34m\u001b[0m\u001b[0m\n",
            "\u001b[0;31mNameError\u001b[0m: name 'np' is not defined"
          ]
        }
      ]
    },
    {
      "cell_type": "markdown",
      "source": [
        "# Como vamos pegar o peso de cada posição"
      ],
      "metadata": {
        "id": "wr4xl8mbiSPI"
      }
    },
    {
      "cell_type": "code",
      "source": [
        "weight = []\n",
        "\n",
        "# o vetor weight tem o peso para mover em cada posição\n",
        "for i in range(df_length):\n",
        "  row = []\n",
        "  for j in range(df_length):\n",
        "    if(matriz[i][j] == 1):\n",
        "      row.append(1)\n",
        "    elif(matriz[i][j] == 2):\n",
        "      row.append(5)\n",
        "    elif(matriz[i][j] == 3):\n",
        "      row.append(10)\n",
        "    elif(matriz[i][j] == 4):\n",
        "      row.append(15)\n",
        "  weight.append(row)"
      ],
      "metadata": {
        "id": "t6UP5Bu3hcwA"
      },
      "execution_count": 6,
      "outputs": []
    },
    {
      "cell_type": "markdown",
      "source": [
        "# Gerar um Grafo Direcionado"
      ],
      "metadata": {
        "id": "CiZTm6wq6kCK"
      }
    },
    {
      "cell_type": "code",
      "source": [
        "def generateDirectedGraph(graph, weight, x, y):\n",
        "    u = str(x) + ':' + str(y)\n",
        "    # str(x) + ':' + str(y) -> e.g. x = 0, y = 0 -> '0:0' (posicao_x : posicao_y) que seria a chave do dicionário\n",
        "    # e vai adicionar str(x) + ':' + str(y + 1) -> x = 0, y = 1 -> '0:1', como chave de um dicionário dentro do primeiro dicionário\n",
        "    # e o peso (1) que vem do vetor weight da célula acima será o valor da chave do dicionário de dentro\n",
        "    # Resultado: {'0:0': {'0:1': 1}}\n",
        "    # Isso traduz em que a posição [0, 0] da matriz tem um caminho para [0, 1] que custa 1\n",
        "    \n",
        "    # Condições válidas para adicionar no grafo baseado na posição atual\n",
        "    # Norte -> x - 1, y\n",
        "    # Leste -> x, y + 1\n",
        "    # Sul   -> x + 1, y\n",
        "    # Oeste -> x, y - 1\n",
        "    if(x == 0):\n",
        "      if(y == 0):\n",
        "        v = str(x) + ':' + str(y + 1)\n",
        "        graph[u][v] = weight[x][y + 1] # Leste\n",
        "        \n",
        "        v = str(x + 1) + ':' + str(y)\n",
        "        graph[u][v] = weight[x + 1][y] # Sul  \n",
        "\n",
        "      elif(y > 0 and y < df_length - 1):\n",
        "        v = str(x) + ':' + str(y + 1)\n",
        "        graph[u][v] = weight[x][y + 1] # Leste\n",
        "        \n",
        "        v = str(x + 1) + ':' + str(y)\n",
        "        graph[u][v] = weight[x + 1][y] # Sul\n",
        "\n",
        "        v = str(x) + ':' + str(y - 1)\n",
        "        graph[u][v] = weight[x][y - 1] # Oeste\n",
        "\n",
        "      elif(y == df_length - 1):\n",
        "        v = str(x + 1) + ':' + str(y)\n",
        "        graph[u][v] = weight[x + 1][y] # Sul\n",
        "\n",
        "        v = str(x) + ':' + str(y - 1)\n",
        "        graph[u][v] = weight[x][y - 1] # Oeste\n",
        "\n",
        "    elif(x > 0 and x < df_length - 1):\n",
        "      if(y == 0):\n",
        "        v = str(x - 1) + ':' + str(y)\n",
        "        graph[u][v] = weight[x - 1][y] # Norte\n",
        "\n",
        "        v = str(x) + ':' + str(y + 1)\n",
        "        graph[u][v] = weight[x][y + 1] # Leste\n",
        "        \n",
        "        v = str(x + 1) + ':' + str(y)\n",
        "        graph[u][v] = weight[x + 1][y] # Sul \n",
        "\n",
        "      elif(y > 0 and y < df_length - 1):\n",
        "         v = str(x - 1) + ':' + str(y)\n",
        "         graph[u][v] = weight[x - 1][y] # Norte\n",
        "\n",
        "         v = str(x) + ':' + str(y + 1)\n",
        "         graph[u][v] = weight[x][y + 1] # Leste\n",
        "        \n",
        "         v = str(x + 1) + ':' + str(y)\n",
        "         graph[u][v] = weight[x + 1][y] # Sul\n",
        "\n",
        "         v = str(x) + ':' + str(y - 1)\n",
        "         graph[u][v] = weight[x][y - 1] # Oeste\n",
        "\n",
        "      elif(y == df_length - 1):\n",
        "         v = str(x - 1) + ':' + str(y)\n",
        "         graph[u][v] = weight[x - 1][y] # Norte\n",
        "\n",
        "         v = str(x + 1) + ':' + str(y)\n",
        "         graph[u][v] = weight[x + 1][y] # Sul\n",
        "\n",
        "         v = str(x) + ':' + str(y - 1)\n",
        "         graph[u][v] = weight[x][y - 1] # Oeste\n",
        "   \n",
        "    elif(x == df_length - 1):\n",
        "      if(y == 0):\n",
        "        v = str(x - 1) + ':' + str(y)\n",
        "        graph[u][v] = weight[x - 1][y] # Norte\n",
        "\n",
        "        v = str(x) + ':' + str(y + 1)\n",
        "        graph[u][v] = weight[x][y + 1] # Leste\n",
        "\n",
        "      elif(y > 0 and y < df_length - 1):\n",
        "        v = str(x - 1) + ':' + str(y)\n",
        "        graph[u][v] = weight[x - 1][y] # Norte\n",
        "\n",
        "        v = str(x) + ':' + str(y + 1)\n",
        "        graph[u][v] = weight[x][y + 1] # Leste\n",
        "\n",
        "        v = str(x) + ':' + str(y - 1)\n",
        "        graph[u][v] = weight[x][y - 1] # Oeste\n",
        "\n",
        "      elif(y == df_length - 1):\n",
        "        v = str(x - 1) + ':' + str(y)\n",
        "        graph[u][v] = weight[x - 1][y] # Norte\n",
        "\n",
        "        v = str(x) + ':' + str(y - 1)\n",
        "        graph[u][v] = weight[x][y - 1] # Oeste\n",
        "\n",
        "    return graph"
      ],
      "metadata": {
        "id": "g-VAZDcz7xCA"
      },
      "execution_count": 7,
      "outputs": []
    },
    {
      "cell_type": "code",
      "source": [
        "# foi preciso usar o defaultdict para usar váriaveis como chave de um dicionário\n",
        "from collections import defaultdict\n",
        "graph = defaultdict(dict)\n",
        "\n",
        "for i in range(df_length):\n",
        "  for j in range(df_length):\n",
        "    graph = generateDirectedGraph(graph, weight, i, j)"
      ],
      "metadata": {
        "id": "hxNdQyZoAmdh"
      },
      "execution_count": 8,
      "outputs": []
    },
    {
      "cell_type": "markdown",
      "source": [
        "# Dijkstra para mostrar o caminho mais curto"
      ],
      "metadata": {
        "id": "yLEVsvrxPO2q"
      }
    },
    {
      "cell_type": "code",
      "source": [
        "def dijkstra(graph, src):\n",
        "    # cria uma fila com a posição atual\n",
        "    queue = [src]\n",
        "    # cria um dicionário com as mesmas chaves do grafo e o valor é float('inf') = infinito, para que a distâncias de uma posição para outra sempre seja menor que infinito\n",
        "    minDistances = {v: float(\"inf\") for v in graph}\n",
        "    # posição inicial o custo para mover vai ser sempre 0\n",
        "    minDistances[src] = 0\n",
        "    predecessor = {}\n",
        "\n",
        "    while queue:\n",
        "        # currentNode vai ter o topo da fila \n",
        "        currentNode = queue.pop(0)\n",
        "        # graph[currentNode] = {'x1:y1': custo, 'x2:y2': custo}\n",
        "        # neighbor = vai ser cada chave de cada elemento desse dicionário graph\n",
        "        for neighbor in graph[currentNode]:\n",
        "            # distância pontecial do src para a posição vizinha\n",
        "            # minDistances[currentNode] na primeira vez que rodar vai ser zero + custo da posição vizinha\n",
        "            newDist = minDistances[currentNode] + graph[currentNode][neighbor]\n",
        "\n",
        "            # minDistances[neighbor] será infinito se a posição não tiver sido visitada ainda então newDist é menor que minDistances[neighbor]\n",
        "            if newDist < minDistances[neighbor]:\n",
        "                minDistances[neighbor] = min(newDist, minDistances[neighbor])\n",
        "                # neighbor virá a nova posição que será olhada\n",
        "                queue.append(neighbor)\n",
        "                predecessor[neighbor] = currentNode\n",
        "\n",
        "    return minDistances, predecessor"
      ],
      "metadata": {
        "id": "kbrzgDgsmMPF"
      },
      "execution_count": 9,
      "outputs": []
    },
    {
      "cell_type": "markdown",
      "source": [
        "# Uniform Cost Search"
      ],
      "metadata": {
        "id": "vB_-2fV8PW-c"
      }
    },
    {
      "cell_type": "code",
      "source": [
        "def UCS(graph, src, dest):\n",
        "    minDistances, predecessor = dijkstra(graph, src)\n",
        "    \n",
        "    path = []\n",
        "    currentNode = dest\n",
        "\n",
        "    while currentNode != src:\n",
        "        # usa o path.insert(0, currentNode) para sempre inserir na lista no index 0 \n",
        "        path.insert(0, currentNode)\n",
        "        currentNode = predecessor[currentNode]\n",
        "    path.insert(0, src)\n",
        "    \n",
        "    if dest in minDistances and minDistances[dest] != float(\"inf\"):\n",
        "        print('O menor caminho entre '+ src + ' e ' + dest + ' é '  + str(minDistances[dest]))\n",
        "        print('E o caminho é ' + str(path))"
      ],
      "metadata": {
        "id": "pzYIKog2orRR"
      },
      "execution_count": 10,
      "outputs": []
    },
    {
      "cell_type": "markdown",
      "source": [
        "# Executando o algoritmo"
      ],
      "metadata": {
        "id": "8Jcbm9SMcpTm"
      }
    },
    {
      "cell_type": "code",
      "source": [
        "UCS(graph, src, dest)"
      ],
      "metadata": {
        "colab": {
          "base_uri": "https://localhost:8080/"
        },
        "id": "OuKqekIM-geA",
        "outputId": "1f463dce-8bcb-4607-9e10-a324b7698f6d"
      },
      "execution_count": 11,
      "outputs": [
        {
          "output_type": "stream",
          "name": "stdout",
          "text": [
            "O menor caminho entre 0:0 e 1:6 é 15\n",
            "E o caminho é ['0:0', '1:0', '1:1', '1:2', '1:3', '1:4', '1:5', '1:6']\n"
          ]
        }
      ]
    }
  ]
}